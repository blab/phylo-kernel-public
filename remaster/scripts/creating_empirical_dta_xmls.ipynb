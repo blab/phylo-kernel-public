{
 "cells": [
  {
   "cell_type": "code",
   "execution_count": 2,
   "id": "1fcfd688",
   "metadata": {},
   "outputs": [],
   "source": [
    "import pandas as pd\n",
    "import numpy as np\n",
    "import os\n",
    "import xml.etree.ElementTree as ET"
   ]
  },
  {
   "cell_type": "code",
   "execution_count": 3,
   "id": "1d26397e",
   "metadata": {},
   "outputs": [
    {
     "name": "stdout",
     "output_type": "stream",
     "text": [
      "rep-1-seq-density-0.5-unbiased-metadata\n",
      "Modified XML has been created successfully!\n",
      "rep-2-seq-density-0.5-unbiased-metadata\n",
      "Modified XML has been created successfully!\n",
      "rep-2-seq-density-0.1-biased-metadata\n",
      "Modified XML has been created successfully!\n",
      "rep-1-seq-density-0.5-biased-metadata\n",
      "Modified XML has been created successfully!\n",
      "rep-1-seq-density-0.1-unbiased-metadata\n",
      "Modified XML has been created successfully!\n",
      "rep-1-seq-density-0.1-biased-metadata\n",
      "Modified XML has been created successfully!\n",
      "rep-2-seq-density-0.5-biased-metadata\n",
      "Modified XML has been created successfully!\n",
      "rep-2-seq-density-0.1-unbiased-metadata\n",
      "Modified XML has been created successfully!\n"
     ]
    }
   ],
   "source": [
    "# Read the XML Template\n",
    "#if doing symmetrical, switch to template-sym.xml\n",
    "with open('../xmls/xml_templates/template-asym.xml', 'r') as file:\n",
    "    lines = file.readlines()\n",
    "\n",
    "#path for all the input files\n",
    "dir_path = \"../data/preprint_data/input_for_dta_new_beta/\"\n",
    "\n",
    "for name in os.listdir(dir_path):\n",
    "    if \"metadata\" in name:\n",
    "        file_path = os.path.join(dir_path, name)\n",
    "        # Open file\n",
    "        with open(file_path) as data:\n",
    "        \n",
    "            df = pd.read_csv(data)\n",
    "            new_name = name.split(\".\")[0] + \".\" + name.split(\".\")[1]\n",
    "            print(new_name)\n",
    "\n",
    "            # Modify the XML lines\n",
    "            modified_lines = []\n",
    "            for line in lines:\n",
    "                if \"insert_data\" in line:\n",
    "                    for index, row in df.iterrows():\n",
    "                        data_text = f\"\\t\\t <taxon id = \\\"{row['label']}\\\">\\n \\t\\t\\t\\t <attr name =\\\"region\\\">{row['subgroup']}</attr> \\n \\t\\t </taxon> \\n\"\n",
    "                        modified_lines.append(data_text)\n",
    "                elif \"file_name\" in line:\n",
    "                    if \"file_name-figtree\" in line:\n",
    "                        data_text = line.replace(\"file_name\",\"beast_\" + new_name[:-9] )\n",
    "                    else:\n",
    "                        data_text = line.replace(\"file_name\",\"beast_\" + new_name[:-9] + \"-asym\" ) ## this was added for asymmetrical DTA since the tree name is the same but we need the file name to be different\n",
    "                    #print(data_text)\n",
    "                    modified_lines.append(data_text)\n",
    "                else:\n",
    "                    modified_lines.append(line)\n",
    "\n",
    "            # Write the modified XML to a new file\n",
    "            with open(\"../xmls/dta_reps/\" + new_name[:-9]+ \"-asym\"+'.xml', 'w') as file:\n",
    "                file.writelines(modified_lines)\n",
    "\n",
    "            print(\"Modified XML has been created successfully!\")\n"
   ]
  },
  {
   "cell_type": "code",
   "execution_count": null,
   "id": "9ea29741",
   "metadata": {},
   "outputs": [],
   "source": []
  }
 ],
 "metadata": {
  "kernelspec": {
   "display_name": "Python 3 (ipykernel)",
   "language": "python",
   "name": "python3"
  },
  "language_info": {
   "codemirror_mode": {
    "name": "ipython",
    "version": 3
   },
   "file_extension": ".py",
   "mimetype": "text/x-python",
   "name": "python",
   "nbconvert_exporter": "python",
   "pygments_lexer": "ipython3",
   "version": "3.8.13"
  }
 },
 "nbformat": 4,
 "nbformat_minor": 5
}
